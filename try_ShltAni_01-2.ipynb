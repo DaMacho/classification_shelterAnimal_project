{
 "cells": [
  {
   "cell_type": "code",
   "execution_count": 1,
   "metadata": {
    "collapsed": true,
    "scrolled": false
   },
   "outputs": [],
   "source": [
    "import numpy as np\n",
    "import pandas as pd\n",
    "import matplotlib.pyplot as plt\n",
    "import seaborn as sns\n",
    "\n",
    "%matplotlib inline"
   ]
  },
  {
   "cell_type": "code",
   "execution_count": 3,
   "metadata": {
    "collapsed": true
   },
   "outputs": [],
   "source": [
    "test_df = pd.read_csv(\"./input/test.csv\")   # test set\n",
    "train_df = pd.read_csv(\"./input/train.csv\")\n",
    "#sample_submission_df = pd.read_csv(\"./input/sample_submission.csv\")"
   ]
  },
  {
   "cell_type": "markdown",
   "metadata": {},
   "source": [
    "## 귀찮으시면, \n",
    "# ctrl+f  + 끝 \n",
    "## 부터 보시면 러닝 돌린거부터 볼 수 있습니다~\n",
    "\n",
    "## 아래부터 전처리 갑니다."
   ]
  },
  {
   "cell_type": "code",
   "execution_count": null,
   "metadata": {
    "collapsed": true
   },
   "outputs": [],
   "source": []
  },
  {
   "cell_type": "code",
   "execution_count": 52,
   "metadata": {},
   "outputs": [
    {
     "data": {
      "text/plain": [
       "Index(['AnimalID', 'Name', 'DateTime', 'OutcomeType', 'OutcomeSubtype',\n",
       "       'AnimalType', 'SexuponOutcome', 'AgeuponOutcome', 'Breed', 'Color'],\n",
       "      dtype='object')"
      ]
     },
     "execution_count": 52,
     "metadata": {},
     "output_type": "execute_result"
    }
   ],
   "source": [
    "train_df.keys()"
   ]
  },
  {
   "cell_type": "code",
   "execution_count": 53,
   "metadata": {},
   "outputs": [
    {
     "data": {
      "text/plain": [
       "(26729, 10)"
      ]
     },
     "execution_count": 53,
     "metadata": {},
     "output_type": "execute_result"
    }
   ],
   "source": [
    "train_df.shape"
   ]
  },
  {
   "cell_type": "code",
   "execution_count": null,
   "metadata": {
    "collapsed": true
   },
   "outputs": [],
   "source": []
  },
  {
   "cell_type": "markdown",
   "metadata": {},
   "source": [
    "## 전처리"
   ]
  },
  {
   "cell_type": "markdown",
   "metadata": {},
   "source": [
    "성별 column과 중성화 column 추가"
   ]
  },
  {
   "cell_type": "code",
   "execution_count": 54,
   "metadata": {
    "collapsed": true
   },
   "outputs": [],
   "source": [
    "# functions to get new parameters from the column\n",
    "def get_sex(x):\n",
    "    x = str(x)\n",
    "    if x.find('Male') >= 0: return 'male'\n",
    "    if x.find('Female') >= 0: return 'female'\n",
    "    return 'unknown'\n",
    "def get_neutered(x):\n",
    "    x = str(x)\n",
    "    if x.find('Spayed') >= 0: return 'neutered'\n",
    "    if x.find('Neutered') >= 0: return 'neutered'\n",
    "    if x.find('Intact') >= 0: return 'intact'\n",
    "    return 'unknown'"
   ]
  },
  {
   "cell_type": "code",
   "execution_count": 55,
   "metadata": {
    "collapsed": true
   },
   "outputs": [],
   "source": [
    "train_df['Sex'] = train_df.SexuponOutcome.apply(get_sex)\n",
    "train_df['Neutered'] = train_df.SexuponOutcome.apply(get_neutered)"
   ]
  },
  {
   "cell_type": "code",
   "execution_count": null,
   "metadata": {
    "collapsed": true
   },
   "outputs": [],
   "source": []
  },
  {
   "cell_type": "code",
   "execution_count": 56,
   "metadata": {
    "collapsed": true
   },
   "outputs": [],
   "source": [
    "# 이름과 전처리\n",
    "train_df['Name'] = train_df['Name'].replace(np.nan, 'Unknown', regex=True)\n",
    "train_df['AgeuponOutcome'] = train_df['AgeuponOutcome'].replace(np.nan, '0 days', regex=True)"
   ]
  },
  {
   "cell_type": "raw",
   "metadata": {
    "collapsed": true
   },
   "source": [
    "# AgeuponOutcome -> 나이그룹 추가\n",
    "\n",
    "train_df['AgeGroup'] = train_df['AgeuponOutcome']\n",
    "for i in range(0, len(train_df['AgeuponOutcome'])):\n",
    "    num, unit = (train_df['AgeuponOutcome'][i]).split(' ')\n",
    "    if unit == 'year' or unit == 'years':\n",
    "        train_df['AgeGroup'][i] = 'year'\n",
    "    elif unit == 'month' or unit == 'months':\n",
    "        train_df['AgeGroup'][i] = 'month'\n",
    "    elif unit == 'week' or unit == 'weeks':\n",
    "        train_df['AgeGroup'][i] = 'week'\n",
    "    elif unit == 'day' or unit == 'days':\n",
    "        train_df['AgeGroup'][i] = 'day'"
   ]
  },
  {
   "cell_type": "raw",
   "metadata": {},
   "source": [
    "# AgeuponOutcome -> 일수로 변경\n",
    "\n",
    "for i in range(0, len(train_df['AgeuponOutcome'])):\n",
    "    num, unit = (train_df['AgeuponOutcome'][i]).split(' ')\n",
    "    if unit == 'year' or unit == 'years':\n",
    "        train_df['AgeuponOutcome'][i] = int(num) * 365\n",
    "    elif unit == 'month' or unit == 'months':\n",
    "        train_df['AgeuponOutcome'][i] = int(num) * 30\n",
    "    elif unit == 'week' or unit == 'weeks':\n",
    "        train_df['AgeuponOutcome'][i] = int(num) * 7\n",
    "    elif unit == 'day' or unit == 'days':\n",
    "        train_df['AgeuponOutcome'][i] = int(num)"
   ]
  },
  {
   "cell_type": "code",
   "execution_count": 57,
   "metadata": {
    "collapsed": true
   },
   "outputs": [],
   "source": [
    "from pandas import Series\n",
    "\n",
    "bydays = []\n",
    "\n",
    "for i in train_df['AgeuponOutcome']:\n",
    "    if i.find(' ') >= 0:\n",
    "        f, s = i.split(' ')\n",
    "        if s == 'year' or s == 'years':\n",
    "            f = int(f) * 365\n",
    "            bydays.append(f)\n",
    "        elif s == 'month' or s == 'months':\n",
    "            f = int(f) * 30\n",
    "            bydays.append(f)\n",
    "        elif s == 'week' or s == 'weeks':\n",
    "            f = int(f) * 7\n",
    "            bydays.append(f)\n",
    "        elif s == 'day' or s == 'days':\n",
    "            f = int(f)\n",
    "            bydays.append(f)\n",
    "    else:\n",
    "        bydays.append(i)\n",
    "\n",
    "train_df['AgeuponOutcome'] = Series(bydays)"
   ]
  },
  {
   "cell_type": "code",
   "execution_count": null,
   "metadata": {
    "collapsed": true
   },
   "outputs": [],
   "source": []
  },
  {
   "cell_type": "code",
   "execution_count": 58,
   "metadata": {
    "collapsed": true
   },
   "outputs": [],
   "source": [
    "# Name 유무 변수 생성\n",
    "\n",
    "def is_name(x):\n",
    "    x = str(x)\n",
    "    if x.find('Unknow') >= 0: return 0\n",
    "    else: return 1\n",
    "\n",
    "train_df['isName'] = train_df.Name.apply(is_name)"
   ]
  },
  {
   "cell_type": "code",
   "execution_count": null,
   "metadata": {
    "collapsed": true
   },
   "outputs": [],
   "source": []
  },
  {
   "cell_type": "code",
   "execution_count": 59,
   "metadata": {
    "collapsed": true
   },
   "outputs": [],
   "source": [
    "# number of color 색상의 갯수, 0은 한색, 1은 두색이상\n",
    "def get_num(x):\n",
    "    x = str(x)\n",
    "    if x.find('/') >= 0: return 1\n",
    "    else: return 0\n",
    "\n",
    "train_df['numCol'] = train_df.Color.apply(get_num)"
   ]
  },
  {
   "cell_type": "code",
   "execution_count": null,
   "metadata": {
    "collapsed": true
   },
   "outputs": [],
   "source": []
  },
  {
   "cell_type": "code",
   "execution_count": 60,
   "metadata": {
    "scrolled": true
   },
   "outputs": [
    {
     "data": {
      "text/html": [
       "<div>\n",
       "<style>\n",
       "    .dataframe thead tr:only-child th {\n",
       "        text-align: right;\n",
       "    }\n",
       "\n",
       "    .dataframe thead th {\n",
       "        text-align: left;\n",
       "    }\n",
       "\n",
       "    .dataframe tbody tr th {\n",
       "        vertical-align: top;\n",
       "    }\n",
       "</style>\n",
       "<table border=\"1\" class=\"dataframe\">\n",
       "  <thead>\n",
       "    <tr style=\"text-align: right;\">\n",
       "      <th></th>\n",
       "      <th>AnimalID</th>\n",
       "      <th>Name</th>\n",
       "      <th>DateTime</th>\n",
       "      <th>OutcomeType</th>\n",
       "      <th>OutcomeSubtype</th>\n",
       "      <th>AnimalType</th>\n",
       "      <th>SexuponOutcome</th>\n",
       "      <th>AgeuponOutcome</th>\n",
       "      <th>Breed</th>\n",
       "      <th>Color</th>\n",
       "      <th>Sex</th>\n",
       "      <th>Neutered</th>\n",
       "      <th>isName</th>\n",
       "      <th>numCol</th>\n",
       "    </tr>\n",
       "  </thead>\n",
       "  <tbody>\n",
       "    <tr>\n",
       "      <th>26724</th>\n",
       "      <td>A702446</td>\n",
       "      <td>Unknown</td>\n",
       "      <td>2015-05-14 11:56:00</td>\n",
       "      <td>Transfer</td>\n",
       "      <td>Partner</td>\n",
       "      <td>Cat</td>\n",
       "      <td>Intact Male</td>\n",
       "      <td>30</td>\n",
       "      <td>Domestic Shorthair Mix</td>\n",
       "      <td>Brown Tabby/White</td>\n",
       "      <td>male</td>\n",
       "      <td>intact</td>\n",
       "      <td>0</td>\n",
       "      <td>1</td>\n",
       "    </tr>\n",
       "    <tr>\n",
       "      <th>26725</th>\n",
       "      <td>A718934</td>\n",
       "      <td>Unknown</td>\n",
       "      <td>2016-01-20 18:59:00</td>\n",
       "      <td>Transfer</td>\n",
       "      <td>SCRP</td>\n",
       "      <td>Cat</td>\n",
       "      <td>Spayed Female</td>\n",
       "      <td>90</td>\n",
       "      <td>Domestic Shorthair Mix</td>\n",
       "      <td>Brown Tabby</td>\n",
       "      <td>female</td>\n",
       "      <td>neutered</td>\n",
       "      <td>0</td>\n",
       "      <td>0</td>\n",
       "    </tr>\n",
       "    <tr>\n",
       "      <th>26726</th>\n",
       "      <td>A698128</td>\n",
       "      <td>Zeus</td>\n",
       "      <td>2015-03-09 13:33:00</td>\n",
       "      <td>Adoption</td>\n",
       "      <td>NaN</td>\n",
       "      <td>Dog</td>\n",
       "      <td>Neutered Male</td>\n",
       "      <td>1460</td>\n",
       "      <td>Old English Bulldog Mix</td>\n",
       "      <td>White/Tan</td>\n",
       "      <td>male</td>\n",
       "      <td>neutered</td>\n",
       "      <td>1</td>\n",
       "      <td>1</td>\n",
       "    </tr>\n",
       "    <tr>\n",
       "      <th>26727</th>\n",
       "      <td>A677478</td>\n",
       "      <td>Unknown</td>\n",
       "      <td>2014-04-27 12:22:00</td>\n",
       "      <td>Transfer</td>\n",
       "      <td>Partner</td>\n",
       "      <td>Cat</td>\n",
       "      <td>Intact Male</td>\n",
       "      <td>28</td>\n",
       "      <td>Domestic Shorthair Mix</td>\n",
       "      <td>Black</td>\n",
       "      <td>male</td>\n",
       "      <td>intact</td>\n",
       "      <td>0</td>\n",
       "      <td>0</td>\n",
       "    </tr>\n",
       "    <tr>\n",
       "      <th>26728</th>\n",
       "      <td>A706629</td>\n",
       "      <td>Unknown</td>\n",
       "      <td>2015-07-02 09:00:00</td>\n",
       "      <td>Transfer</td>\n",
       "      <td>SCRP</td>\n",
       "      <td>Cat</td>\n",
       "      <td>Intact Male</td>\n",
       "      <td>365</td>\n",
       "      <td>Domestic Shorthair Mix</td>\n",
       "      <td>Brown Tabby/White</td>\n",
       "      <td>male</td>\n",
       "      <td>intact</td>\n",
       "      <td>0</td>\n",
       "      <td>1</td>\n",
       "    </tr>\n",
       "  </tbody>\n",
       "</table>\n",
       "</div>"
      ],
      "text/plain": [
       "      AnimalID     Name             DateTime OutcomeType OutcomeSubtype  \\\n",
       "26724  A702446  Unknown  2015-05-14 11:56:00    Transfer        Partner   \n",
       "26725  A718934  Unknown  2016-01-20 18:59:00    Transfer           SCRP   \n",
       "26726  A698128     Zeus  2015-03-09 13:33:00    Adoption            NaN   \n",
       "26727  A677478  Unknown  2014-04-27 12:22:00    Transfer        Partner   \n",
       "26728  A706629  Unknown  2015-07-02 09:00:00    Transfer           SCRP   \n",
       "\n",
       "      AnimalType SexuponOutcome  AgeuponOutcome                    Breed  \\\n",
       "26724        Cat    Intact Male              30   Domestic Shorthair Mix   \n",
       "26725        Cat  Spayed Female              90   Domestic Shorthair Mix   \n",
       "26726        Dog  Neutered Male            1460  Old English Bulldog Mix   \n",
       "26727        Cat    Intact Male              28   Domestic Shorthair Mix   \n",
       "26728        Cat    Intact Male             365   Domestic Shorthair Mix   \n",
       "\n",
       "                   Color     Sex  Neutered  isName  numCol  \n",
       "26724  Brown Tabby/White    male    intact       0       1  \n",
       "26725        Brown Tabby  female  neutered       0       0  \n",
       "26726          White/Tan    male  neutered       1       1  \n",
       "26727              Black    male    intact       0       0  \n",
       "26728  Brown Tabby/White    male    intact       0       1  "
      ]
     },
     "execution_count": 60,
     "metadata": {},
     "output_type": "execute_result"
    }
   ],
   "source": [
    "train_df.tail()"
   ]
  },
  {
   "cell_type": "code",
   "execution_count": null,
   "metadata": {
    "collapsed": true
   },
   "outputs": [],
   "source": []
  },
  {
   "cell_type": "code",
   "execution_count": 61,
   "metadata": {
    "collapsed": true
   },
   "outputs": [],
   "source": [
    "# Color 단순화 1단계 '/' 풀기\n",
    "from pandas import Series\n",
    "\n",
    "bymain = []\n",
    "\n",
    "for i in train_df['Color']:\n",
    "    i = str(i)\n",
    "    if i.find('/') >= 0:\n",
    "        f, s = i.split('/')\n",
    "        bymain.append(f)\n",
    "    else:\n",
    "        bymain.append(i)\n",
    "\n",
    "train_df['newColor'] = Series(bymain)"
   ]
  },
  {
   "cell_type": "code",
   "execution_count": null,
   "metadata": {
    "collapsed": true
   },
   "outputs": [],
   "source": []
  },
  {
   "cell_type": "code",
   "execution_count": 62,
   "metadata": {},
   "outputs": [
    {
     "data": {
      "text/plain": [
       "Black                6422\n",
       "White                3344\n",
       "Brown Tabby          2592\n",
       "Brown                1951\n",
       "Tan                  1674\n",
       "Orange Tabby         1299\n",
       "Blue                 1199\n",
       "Tricolor              800\n",
       "Red                   779\n",
       "Brown Brindle         699\n",
       "Blue Tabby            678\n",
       "Tortie                580\n",
       "Calico                552\n",
       "Chocolate             448\n",
       "Torbie                398\n",
       "Sable                 324\n",
       "Cream Tabby           277\n",
       "Buff                  267\n",
       "Yellow                230\n",
       "Gray                  227\n",
       "Cream                 221\n",
       "Fawn                  209\n",
       "Lynx Point            183\n",
       "Blue Merle            165\n",
       "Seal Point            158\n",
       "Black Brindle          99\n",
       "Flame Point            85\n",
       "Gold                   77\n",
       "Brown Merle            72\n",
       "Black Smoke            62\n",
       "Black Tabby            61\n",
       "Silver                 53\n",
       "Red Merle              52\n",
       "Gray Tabby             51\n",
       "Blue Tick              44\n",
       "Orange                 43\n",
       "Silver Tabby           41\n",
       "Red Tick               40\n",
       "Lilac Point            39\n",
       "Tortie Point           34\n",
       "Yellow Brindle         31\n",
       "Blue Point             31\n",
       "Calico Point           27\n",
       "Apricot                26\n",
       "Chocolate Point        21\n",
       "Blue Cream             19\n",
       "Liver                  15\n",
       "Blue Tiger              8\n",
       "Blue Smoke              5\n",
       "Liver Tick              4\n",
       "Brown Tiger             4\n",
       "Agouti                  2\n",
       "Black Tiger             2\n",
       "Silver Lynx Point       2\n",
       "Pink                    1\n",
       "Orange Tiger            1\n",
       "Ruddy                   1\n",
       "Name: newColor, dtype: int64"
      ]
     },
     "execution_count": 62,
     "metadata": {},
     "output_type": "execute_result"
    }
   ],
   "source": [
    "train_df['newColor'].value_counts()"
   ]
  },
  {
   "cell_type": "code",
   "execution_count": null,
   "metadata": {
    "collapsed": true
   },
   "outputs": [],
   "source": []
  },
  {
   "cell_type": "code",
   "execution_count": 63,
   "metadata": {
    "collapsed": true
   },
   "outputs": [],
   "source": [
    "def get_mainC(x):\n",
    "    x = str(x)\n",
    "    if x.find('Black') >= 0: return 'dark'\n",
    "    if x.find('White') >= 0: return 'light'\n",
    "    if x.find('Brown') >= 0: return 'dark'\n",
    "    if x.find('Orange') >= 0: return 'light'\n",
    "    if x.find('Blue') >= 0: return 'medium'\n",
    "    if x.find('Red') >= 0: return 'medium'\n",
    "    \n",
    "    if x.find('Tan') >= 0: return 'medium'\n",
    "    if x.find('Tortie') >= 0: return 'dark'\n",
    "    if x.find('Calico') >= 0: return 'medium'\n",
    "    if x.find('Torbie') >= 0: return 'medium'\n",
    "    if x.find('Buff') >= 0: return 'light'\n",
    "    if x.find('Sable') >= 0: return 'dark'\n",
    "    if x.find('Cream') >= 0: return 'light'\n",
    "    if x.find('Yellow') >= 0: return 'light'\n",
    "    if x.find('Lynx') >= 0: return 'light'\n",
    "    if x.find('Chocolate') >= 0: return 'dark'\n",
    "    if x.find('Gray') >= 0: return 'dark'\n",
    "    if x.find('Liver') >= 0: return 'dark'\n",
    "    if x.find('Flame') >= 0: return 'light'\n",
    "    if x.find('Agouti') >= 0: return 'dark'\n",
    "    if x.find('Pink') >= 0: return 'light'\n",
    "    if x.find('Ruddy') >= 0: return 'medium'\n",
    "    if x.find('Gold') >= 0: return 'light'\n",
    "    if x.find('Silver') >= 0: return 'light'\n",
    "    if x.find('Lilac') >= 0: return 'light'\n",
    "    if x.find('Seal') >= 0: return 'medium'\n",
    "    if x.find('Fawn') >= 0: return 'light'\n",
    "    if x.find('Apricot') >= 0: return 'light'\n",
    "    else: return x\n",
    "\n",
    "train_df['newColor2'] = train_df.newColor.apply(get_mainC)"
   ]
  },
  {
   "cell_type": "code",
   "execution_count": 64,
   "metadata": {},
   "outputs": [
    {
     "data": {
      "text/plain": [
       "dark        13670\n",
       "light        6429\n",
       "medium       5830\n",
       "Tricolor      800\n",
       "Name: newColor2, dtype: int64"
      ]
     },
     "execution_count": 64,
     "metadata": {},
     "output_type": "execute_result"
    }
   ],
   "source": [
    "train_df['newColor2'].value_counts()"
   ]
  },
  {
   "cell_type": "code",
   "execution_count": 65,
   "metadata": {
    "scrolled": true
   },
   "outputs": [
    {
     "data": {
      "text/plain": [
       "Index(['AnimalID', 'Name', 'DateTime', 'OutcomeType', 'OutcomeSubtype',\n",
       "       'AnimalType', 'SexuponOutcome', 'AgeuponOutcome', 'Breed', 'Color',\n",
       "       'Sex', 'Neutered', 'isName', 'numCol', 'newColor', 'newColor2'],\n",
       "      dtype='object')"
      ]
     },
     "execution_count": 65,
     "metadata": {},
     "output_type": "execute_result"
    }
   ],
   "source": [
    "train_df.keys()"
   ]
  },
  {
   "cell_type": "code",
   "execution_count": null,
   "metadata": {
    "collapsed": true
   },
   "outputs": [],
   "source": []
  },
  {
   "cell_type": "raw",
   "metadata": {},
   "source": [
    "train_df.DateTime.head(10)"
   ]
  },
  {
   "cell_type": "code",
   "execution_count": 66,
   "metadata": {
    "collapsed": true
   },
   "outputs": [],
   "source": [
    "bydate = []\n",
    "bytime = []\n",
    "\n",
    "for i in train_df['DateTime']:\n",
    "    if i.find(' ') >= 0:\n",
    "        f, s = i.split(' ')\n",
    "        bydate.append(f)\n",
    "        bytime.append(s)\n",
    "    else:\n",
    "        pass\n",
    "\n",
    "train_df['date'] = Series(bydate)\n",
    "train_df['time'] = Series(bytime)"
   ]
  },
  {
   "cell_type": "code",
   "execution_count": 67,
   "metadata": {
    "collapsed": true
   },
   "outputs": [],
   "source": [
    "byyear = []\n",
    "bymonth = []\n",
    "byday = []\n",
    "\n",
    "for i in train_df['date']:\n",
    "    if i.find('-') >= 0:\n",
    "        f, s, d = i.split('-')\n",
    "        byyear.append(f)\n",
    "        bymonth.append(s)\n",
    "        byday.append(d)\n",
    "    else:\n",
    "        pass\n",
    "\n",
    "train_df['year'] = Series(byyear)\n",
    "train_df['month'] = Series(bymonth)\n",
    "train_df['day'] = Series(byday)"
   ]
  },
  {
   "cell_type": "code",
   "execution_count": 68,
   "metadata": {
    "collapsed": true
   },
   "outputs": [],
   "source": [
    "byhour = []\n",
    "byminu = []\n",
    "bysec = []\n",
    "\n",
    "for i in train_df['time']:\n",
    "    if i.find(':') >= 0:\n",
    "        f, s, d = i.split(':')\n",
    "        byhour.append(f)\n",
    "        byminu.append(s)\n",
    "        bysec.append(d)\n",
    "    else:\n",
    "        pass\n",
    "\n",
    "train_df['hour'] = Series(byhour)\n",
    "train_df['minute'] = Series(byminu)\n",
    "train_df['sec'] = Series(bysec)"
   ]
  },
  {
   "cell_type": "code",
   "execution_count": null,
   "metadata": {
    "collapsed": true
   },
   "outputs": [],
   "source": []
  },
  {
   "cell_type": "code",
   "execution_count": null,
   "metadata": {
    "collapsed": true
   },
   "outputs": [],
   "source": []
  },
  {
   "cell_type": "code",
   "execution_count": null,
   "metadata": {
    "collapsed": true
   },
   "outputs": [],
   "source": []
  },
  {
   "cell_type": "code",
   "execution_count": null,
   "metadata": {
    "collapsed": true
   },
   "outputs": [],
   "source": []
  },
  {
   "cell_type": "code",
   "execution_count": null,
   "metadata": {
    "collapsed": true
   },
   "outputs": [],
   "source": []
  },
  {
   "cell_type": "code",
   "execution_count": 69,
   "metadata": {
    "collapsed": true
   },
   "outputs": [],
   "source": [
    "# useing variables\n",
    "uvar = ['OutcomeType', 'AnimalType', 'Sex', 'Neutered', 'AgeuponOutcome', 'isName', 'numCol', 'newColor', 'year', 'month', 'day', 'hour', 'minute', 'sec']\n",
    "uvar_c = ['AnimalType', 'Sex', 'Neutered', 'AgeuponOutcome', 'isName', 'numCol', 'newColor', 'year', 'month', 'day', 'hour', 'minute', 'sec']"
   ]
  },
  {
   "cell_type": "raw",
   "metadata": {},
   "source": [
    "uvar = ['OutcomeType', 'AnimalType', 'Sex', 'Neutered', 'AgeuponOutcome', 'isName', 'numCol', 'newColor','AgeGroup']\n",
    "uvar_c = ['AnimalType', 'Sex', 'Neutered', 'AgeuponOutcome', 'isName', 'numCol', 'newColor','AgeGroup']"
   ]
  },
  {
   "cell_type": "code",
   "execution_count": 70,
   "metadata": {},
   "outputs": [
    {
     "data": {
      "text/plain": [
       "Index(['OutcomeType', 'AnimalType', 'Sex', 'Neutered', 'AgeuponOutcome',\n",
       "       'isName', 'numCol', 'newColor', 'year', 'month', 'day', 'hour',\n",
       "       'minute', 'sec'],\n",
       "      dtype='object')"
      ]
     },
     "execution_count": 70,
     "metadata": {},
     "output_type": "execute_result"
    }
   ],
   "source": [
    "train_df[uvar].keys()"
   ]
  },
  {
   "cell_type": "code",
   "execution_count": 71,
   "metadata": {
    "collapsed": true
   },
   "outputs": [],
   "source": [
    "df_uv = train_df[uvar]\n",
    "df_uv.target = df_uv.iloc[:,0]\n",
    "df_uv.data = df_uv.iloc[:,1:]"
   ]
  },
  {
   "cell_type": "raw",
   "metadata": {
    "collapsed": true
   },
   "source": [
    "dfMatrix = df_uv.as_matrix()"
   ]
  },
  {
   "cell_type": "code",
   "execution_count": null,
   "metadata": {
    "collapsed": true
   },
   "outputs": [],
   "source": []
  },
  {
   "cell_type": "code",
   "execution_count": 81,
   "metadata": {
    "collapsed": true
   },
   "outputs": [],
   "source": [
    "# df_uv.data   더미화\n",
    "\n",
    "from sklearn.preprocessing import LabelEncoder\n",
    "\n",
    "encoder = LabelEncoder()\n",
    "\n",
    "#df_uv.data['OutcomeSubtype'] = encoder.fit_transform(df_uv.data['OutcomeSubtype'])\n",
    "\n",
    "df_uv.data['AnimalType'] = encoder.fit_transform(df_uv.data['AnimalType'])\n",
    "df_uv.data['Sex'] = encoder.fit_transform(df_uv.data['Sex'])\n",
    "df_uv.data['Neutered'] = encoder.fit_transform(df_uv.data['Neutered'])\n",
    "df_uv.data['numCol'] = encoder.fit_transform(df_uv.data['numCol'])\n",
    "df_uv.data['newColor'] = encoder.fit_transform(df_uv.data['newColor'])\n",
    "#df_uv.data['AgeGroup'] = encoder.fit_transform(df_uv.data['AgeGroup'])\n",
    "\n",
    "#df_uv.data['newColor2'] = encoder.fit_transform(df_uv.data['newColor2'])"
   ]
  },
  {
   "cell_type": "code",
   "execution_count": 73,
   "metadata": {},
   "outputs": [
    {
     "data": {
      "text/plain": [
       "Index(['AnimalType', 'Sex', 'Neutered', 'AgeuponOutcome', 'isName', 'numCol',\n",
       "       'newColor', 'year', 'month', 'day', 'hour', 'minute', 'sec'],\n",
       "      dtype='object')"
      ]
     },
     "execution_count": 73,
     "metadata": {},
     "output_type": "execute_result"
    }
   ],
   "source": [
    "df_uv.data.keys()"
   ]
  },
  {
   "cell_type": "code",
   "execution_count": 74,
   "metadata": {},
   "outputs": [
    {
     "data": {
      "text/plain": [
       "RangeIndex(start=0, stop=26729, step=1)"
      ]
     },
     "execution_count": 74,
     "metadata": {},
     "output_type": "execute_result"
    }
   ],
   "source": [
    "df_uv.target.keys()"
   ]
  },
  {
   "cell_type": "code",
   "execution_count": null,
   "metadata": {
    "collapsed": true
   },
   "outputs": [],
   "source": []
  },
  {
   "cell_type": "code",
   "execution_count": null,
   "metadata": {
    "collapsed": true
   },
   "outputs": [],
   "source": []
  },
  {
   "cell_type": "code",
   "execution_count": 75,
   "metadata": {},
   "outputs": [
    {
     "data": {
      "text/plain": [
       "Adoption           10769\n",
       "Transfer            9422\n",
       "Return_to_owner     4786\n",
       "Euthanasia          1555\n",
       "Died                 197\n",
       "Name: OutcomeType, dtype: int64"
      ]
     },
     "execution_count": 75,
     "metadata": {},
     "output_type": "execute_result"
    }
   ],
   "source": [
    "df_uv.target.value_counts()"
   ]
  },
  {
   "cell_type": "code",
   "execution_count": 76,
   "metadata": {
    "collapsed": true
   },
   "outputs": [],
   "source": [
    "dog = df_uv[df_uv['AnimalType'] == 'Dog']\n",
    "cat = df_uv[df_uv['AnimalType'] == 'Cat']\n",
    "\n",
    "dog.target = dog.iloc[:,0]\n",
    "dog.data = dog.iloc[:,1:]\n",
    "\n",
    "cat.target = cat.iloc[:,0]\n",
    "cat.data = cat.iloc[:,1:]"
   ]
  },
  {
   "cell_type": "code",
   "execution_count": 77,
   "metadata": {
    "collapsed": true
   },
   "outputs": [],
   "source": [
    "# 더미화\n",
    "\n",
    "from sklearn.preprocessing import LabelEncoder\n",
    "\n",
    "encoder = LabelEncoder()\n",
    "\n",
    "#df_uv.data['OutcomeSubtype'] = encoder.fit_transform(df_uv.data['OutcomeSubtype'])\n",
    "\n",
    "dog.data['AnimalType'] = encoder.fit_transform(dog.data['AnimalType'])\n",
    "dog.data['Sex'] = encoder.fit_transform(dog.data['Sex'])\n",
    "dog.data['Neutered'] = encoder.fit_transform(dog.data['Neutered'])\n",
    "dog.data['numCol'] = encoder.fit_transform(dog.data['numCol'])\n",
    "dog.data['newColor'] = encoder.fit_transform(dog.data['newColor'])\n",
    "#dog.data['AgeGroup'] = encoder.fit_transform(dog.data['AgeGroup'])\n",
    "\n",
    "cat.data['AnimalType'] = encoder.fit_transform(cat.data['AnimalType'])\n",
    "cat.data['Sex'] = encoder.fit_transform(cat.data['Sex'])\n",
    "cat.data['Neutered'] = encoder.fit_transform(cat.data['Neutered'])\n",
    "cat.data['numCol'] = encoder.fit_transform(cat.data['numCol'])\n",
    "cat.data['newColor'] = encoder.fit_transform(cat.data['newColor'])\n",
    "#cat.data['AgeGroup'] = encoder.fit_transform(cat.data['AgeGroup'])\n",
    "\n",
    "#df_uv.data['newColor2'] = encoder.fit_transform(df_uv.data['newColor2'])"
   ]
  },
  {
   "cell_type": "code",
   "execution_count": null,
   "metadata": {
    "collapsed": true
   },
   "outputs": [],
   "source": []
  },
  {
   "cell_type": "code",
   "execution_count": null,
   "metadata": {
    "collapsed": true
   },
   "outputs": [],
   "source": [
    "train_df[train_df['AnimalType'] == 'Cat'][train_df['Breed']!='Domestic Shorthair Mix'][train_df['Breed']!='Domestic Longhair Mix'][train_df['Breed']!='Domestic Medium Hair Mix'][train_df['Breed']!='Siamese Mix']"
   ]
  },
  {
   "cell_type": "code",
   "execution_count": null,
   "metadata": {
    "collapsed": true
   },
   "outputs": [],
   "source": []
  },
  {
   "cell_type": "markdown",
   "metadata": {},
   "source": [
    "# 전처리 끝\n",
    "\n",
    "### df_uv.target & df_uv.data \n",
    "### dog.target & .data\n",
    "### cat.target & .data\n",
    "\n",
    "- df_uv.target  ->  ['OutcomeType']\n",
    "- df_uv.data  ->  ['AnimalType', 'Sex', 'Neutered', 'AgeuponOutcome', 'isName', 'newColor2']\n",
    "\n",
    "- .target -> ['OutcomeType']\n",
    "- .data -> ['AnimalType', 'Sex', 'Neutered', 'AgeuponOutcome', 'isName']"
   ]
  },
  {
   "cell_type": "code",
   "execution_count": null,
   "metadata": {
    "collapsed": true
   },
   "outputs": [],
   "source": []
  },
  {
   "cell_type": "code",
   "execution_count": null,
   "metadata": {
    "collapsed": true
   },
   "outputs": [],
   "source": []
  },
  {
   "cell_type": "code",
   "execution_count": null,
   "metadata": {
    "collapsed": true
   },
   "outputs": [],
   "source": []
  },
  {
   "cell_type": "code",
   "execution_count": null,
   "metadata": {
    "collapsed": true
   },
   "outputs": [],
   "source": [
    "from sklearn.tree import DecisionTreeClassifier\n",
    "clf = DecisionTreeClassifier(max_depth=5)"
   ]
  },
  {
   "cell_type": "markdown",
   "metadata": {},
   "source": [
    "## DecisionTree DOG"
   ]
  },
  {
   "cell_type": "code",
   "execution_count": null,
   "metadata": {
    "collapsed": true
   },
   "outputs": [],
   "source": [
    "clf = clf.fit(dog.data, dog.target)"
   ]
  },
  {
   "cell_type": "code",
   "execution_count": null,
   "metadata": {
    "collapsed": true
   },
   "outputs": [],
   "source": [
    "clf.score(dog.data, dog.target)"
   ]
  },
  {
   "cell_type": "code",
   "execution_count": null,
   "metadata": {
    "collapsed": true
   },
   "outputs": [],
   "source": [
    "from IPython.display import Image\n",
    "from sklearn import tree\n",
    "import pydotplus \n",
    "import graphviz"
   ]
  },
  {
   "cell_type": "code",
   "execution_count": null,
   "metadata": {
    "collapsed": true
   },
   "outputs": [],
   "source": [
    "dot_data = tree.export_graphviz(clf, out_file=None,\n",
    "                        feature_names=uvar_c,\n",
    "                        class_names=train_df.OutcomeType,\n",
    "                         filled=True, rounded=True,  \n",
    "                         special_characters=True)  \n",
    "graph = pydotplus.graph_from_dot_data(dot_data)  \n",
    "Image(graph.create_png())"
   ]
  },
  {
   "cell_type": "code",
   "execution_count": null,
   "metadata": {
    "collapsed": true
   },
   "outputs": [],
   "source": []
  },
  {
   "cell_type": "markdown",
   "metadata": {},
   "source": [
    "## DecisionTree CAT"
   ]
  },
  {
   "cell_type": "code",
   "execution_count": null,
   "metadata": {
    "collapsed": true
   },
   "outputs": [],
   "source": [
    "clf = clf.fit(cat.data, cat.target)"
   ]
  },
  {
   "cell_type": "code",
   "execution_count": null,
   "metadata": {
    "collapsed": true
   },
   "outputs": [],
   "source": [
    "clf.score(cat.data, cat.target)"
   ]
  },
  {
   "cell_type": "code",
   "execution_count": null,
   "metadata": {
    "collapsed": true
   },
   "outputs": [],
   "source": [
    "dot_data = tree.export_graphviz(clf, out_file=None,\n",
    "                        feature_names=uvar_c,\n",
    "                        class_names=train_df.OutcomeType,\n",
    "                         filled=True, rounded=True,  \n",
    "                         special_characters=True)  \n",
    "graph = pydotplus.graph_from_dot_data(dot_data)  \n",
    "Image(graph.create_png())"
   ]
  },
  {
   "cell_type": "code",
   "execution_count": null,
   "metadata": {
    "collapsed": true
   },
   "outputs": [],
   "source": []
  },
  {
   "cell_type": "code",
   "execution_count": null,
   "metadata": {
    "collapsed": true
   },
   "outputs": [],
   "source": []
  },
  {
   "cell_type": "code",
   "execution_count": null,
   "metadata": {
    "collapsed": true
   },
   "outputs": [],
   "source": []
  },
  {
   "cell_type": "code",
   "execution_count": null,
   "metadata": {
    "collapsed": true
   },
   "outputs": [],
   "source": [
    "# Bagging"
   ]
  },
  {
   "cell_type": "code",
   "execution_count": null,
   "metadata": {
    "collapsed": true
   },
   "outputs": [],
   "source": [
    "from sklearn.ensemble import BaggingClassifier"
   ]
  },
  {
   "cell_type": "code",
   "execution_count": null,
   "metadata": {
    "collapsed": true
   },
   "outputs": [],
   "source": [
    "bagging = BaggingClassifier(DecisionTreeClassifier(), max_samples=0.5, max_features=0.5)"
   ]
  },
  {
   "cell_type": "markdown",
   "metadata": {},
   "source": [
    "## Bagging DOG"
   ]
  },
  {
   "cell_type": "code",
   "execution_count": null,
   "metadata": {
    "collapsed": true,
    "scrolled": true
   },
   "outputs": [],
   "source": [
    "bagging.fit(dog.data, dog.target)"
   ]
  },
  {
   "cell_type": "code",
   "execution_count": null,
   "metadata": {
    "collapsed": true
   },
   "outputs": [],
   "source": [
    "bagging.score(dog.data, dog.target)"
   ]
  },
  {
   "cell_type": "code",
   "execution_count": null,
   "metadata": {
    "collapsed": true
   },
   "outputs": [],
   "source": []
  },
  {
   "cell_type": "markdown",
   "metadata": {},
   "source": [
    "## Bagging Cat"
   ]
  },
  {
   "cell_type": "code",
   "execution_count": null,
   "metadata": {
    "collapsed": true,
    "scrolled": false
   },
   "outputs": [],
   "source": [
    "bagging.fit(cat.data, cat.target)"
   ]
  },
  {
   "cell_type": "code",
   "execution_count": null,
   "metadata": {
    "collapsed": true
   },
   "outputs": [],
   "source": [
    "bagging.score(cat.data, cat.target)"
   ]
  },
  {
   "cell_type": "code",
   "execution_count": null,
   "metadata": {
    "collapsed": true
   },
   "outputs": [],
   "source": []
  },
  {
   "cell_type": "code",
   "execution_count": null,
   "metadata": {
    "collapsed": true
   },
   "outputs": [],
   "source": []
  },
  {
   "cell_type": "code",
   "execution_count": null,
   "metadata": {
    "collapsed": true
   },
   "outputs": [],
   "source": []
  },
  {
   "cell_type": "code",
   "execution_count": null,
   "metadata": {
    "collapsed": true
   },
   "outputs": [],
   "source": [
    "from sklearn.neighbors import KNeighborsClassifier"
   ]
  },
  {
   "cell_type": "code",
   "execution_count": null,
   "metadata": {
    "collapsed": true
   },
   "outputs": [],
   "source": [
    "bagging = BaggingClassifier(KNeighborsClassifier(), max_samples=0.5, max_features=0.5)"
   ]
  },
  {
   "cell_type": "code",
   "execution_count": null,
   "metadata": {
    "collapsed": true
   },
   "outputs": [],
   "source": [
    "bagging.fit(dog.data, dog.target)"
   ]
  },
  {
   "cell_type": "code",
   "execution_count": null,
   "metadata": {
    "collapsed": true
   },
   "outputs": [],
   "source": [
    "bagging.score(dog.data, dog.target)"
   ]
  },
  {
   "cell_type": "code",
   "execution_count": null,
   "metadata": {
    "collapsed": true
   },
   "outputs": [],
   "source": []
  },
  {
   "cell_type": "code",
   "execution_count": null,
   "metadata": {
    "collapsed": true
   },
   "outputs": [],
   "source": [
    "bagging.fit(cat.data, cat.target)"
   ]
  },
  {
   "cell_type": "code",
   "execution_count": null,
   "metadata": {
    "collapsed": true
   },
   "outputs": [],
   "source": [
    "bagging.score(cat.data, cat.target)"
   ]
  },
  {
   "cell_type": "code",
   "execution_count": null,
   "metadata": {
    "collapsed": true
   },
   "outputs": [],
   "source": []
  },
  {
   "cell_type": "code",
   "execution_count": null,
   "metadata": {
    "collapsed": true
   },
   "outputs": [],
   "source": []
  },
  {
   "cell_type": "code",
   "execution_count": null,
   "metadata": {
    "collapsed": true
   },
   "outputs": [],
   "source": []
  },
  {
   "cell_type": "code",
   "execution_count": 78,
   "metadata": {
    "collapsed": true
   },
   "outputs": [],
   "source": [
    "# Random Forests\n",
    "from sklearn.ensemble import RandomForestClassifier"
   ]
  },
  {
   "cell_type": "code",
   "execution_count": 79,
   "metadata": {
    "collapsed": true
   },
   "outputs": [],
   "source": [
    "rfc = RandomForestClassifier(n_estimators=10)"
   ]
  },
  {
   "cell_type": "code",
   "execution_count": null,
   "metadata": {
    "collapsed": true
   },
   "outputs": [],
   "source": [
    "rfc.fit(dog.data, dog.target)"
   ]
  },
  {
   "cell_type": "code",
   "execution_count": null,
   "metadata": {
    "collapsed": true
   },
   "outputs": [],
   "source": [
    "rfc.score(dog.data, dog.target)"
   ]
  },
  {
   "cell_type": "code",
   "execution_count": null,
   "metadata": {
    "collapsed": true
   },
   "outputs": [],
   "source": []
  },
  {
   "cell_type": "code",
   "execution_count": null,
   "metadata": {
    "collapsed": true,
    "scrolled": true
   },
   "outputs": [],
   "source": [
    "rfc.fit(cat.data, cat.target)"
   ]
  },
  {
   "cell_type": "code",
   "execution_count": null,
   "metadata": {
    "collapsed": true
   },
   "outputs": [],
   "source": [
    "rfc.score(cat.data, cat.target)"
   ]
  },
  {
   "cell_type": "code",
   "execution_count": null,
   "metadata": {
    "collapsed": true
   },
   "outputs": [],
   "source": []
  },
  {
   "cell_type": "code",
   "execution_count": null,
   "metadata": {
    "collapsed": true
   },
   "outputs": [],
   "source": [
    "rfc.predict_proba(cat.data)"
   ]
  },
  {
   "cell_type": "code",
   "execution_count": null,
   "metadata": {
    "collapsed": true
   },
   "outputs": [],
   "source": []
  },
  {
   "cell_type": "code",
   "execution_count": 82,
   "metadata": {},
   "outputs": [
    {
     "data": {
      "text/plain": [
       "RandomForestClassifier(bootstrap=True, class_weight=None, criterion='gini',\n",
       "            max_depth=None, max_features='auto', max_leaf_nodes=None,\n",
       "            min_impurity_split=1e-07, min_samples_leaf=1,\n",
       "            min_samples_split=2, min_weight_fraction_leaf=0.0,\n",
       "            n_estimators=10, n_jobs=1, oob_score=False, random_state=None,\n",
       "            verbose=0, warm_start=False)"
      ]
     },
     "execution_count": 82,
     "metadata": {},
     "output_type": "execute_result"
    }
   ],
   "source": [
    "rfc.fit(df_uv.data, df_uv.target)"
   ]
  },
  {
   "cell_type": "code",
   "execution_count": 83,
   "metadata": {},
   "outputs": [
    {
     "data": {
      "text/plain": [
       "0.98529686856971832"
      ]
     },
     "execution_count": 83,
     "metadata": {},
     "output_type": "execute_result"
    }
   ],
   "source": [
    "rfc.score(df_uv.data, df_uv.target)"
   ]
  },
  {
   "cell_type": "code",
   "execution_count": null,
   "metadata": {
    "collapsed": true
   },
   "outputs": [],
   "source": []
  },
  {
   "cell_type": "code",
   "execution_count": null,
   "metadata": {
    "collapsed": true
   },
   "outputs": [],
   "source": []
  },
  {
   "cell_type": "code",
   "execution_count": null,
   "metadata": {
    "collapsed": true
   },
   "outputs": [],
   "source": []
  },
  {
   "cell_type": "code",
   "execution_count": 96,
   "metadata": {},
   "outputs": [
    {
     "data": {
      "text/plain": [
       "array([ 0.02581334,  0.03505621,  0.10562026,  0.18036435,  0.04410929,\n",
       "        0.01743239,  0.07710993,  0.03868988,  0.0892565 ,  0.12337045,\n",
       "        0.11297837,  0.15019903,  0.        ])"
      ]
     },
     "execution_count": 96,
     "metadata": {},
     "output_type": "execute_result"
    }
   ],
   "source": [
    "# feature importance\n",
    "rfc.feature_importances_"
   ]
  },
  {
   "cell_type": "code",
   "execution_count": 97,
   "metadata": {},
   "outputs": [
    {
     "data": {
      "text/plain": [
       "AnimalType        0.025813\n",
       "Sex               0.035056\n",
       "Neutered          0.105620\n",
       "AgeuponOutcome    0.180364\n",
       "isName            0.044109\n",
       "numCol            0.017432\n",
       "newColor          0.077110\n",
       "year              0.038690\n",
       "month             0.089256\n",
       "day               0.123370\n",
       "hour              0.112978\n",
       "minute            0.150199\n",
       "sec               0.000000\n",
       "dtype: float64"
      ]
     },
     "execution_count": 97,
     "metadata": {},
     "output_type": "execute_result"
    }
   ],
   "source": [
    "pd.Series(rfc.feature_importances_, index=uvar_c)"
   ]
  },
  {
   "cell_type": "code",
   "execution_count": null,
   "metadata": {
    "collapsed": true
   },
   "outputs": [],
   "source": []
  },
  {
   "cell_type": "code",
   "execution_count": null,
   "metadata": {
    "collapsed": true
   },
   "outputs": [],
   "source": []
  },
  {
   "cell_type": "code",
   "execution_count": null,
   "metadata": {
    "collapsed": true
   },
   "outputs": [],
   "source": []
  },
  {
   "cell_type": "code",
   "execution_count": null,
   "metadata": {
    "collapsed": true
   },
   "outputs": [],
   "source": [
    "# Boosting"
   ]
  },
  {
   "cell_type": "code",
   "execution_count": null,
   "metadata": {
    "collapsed": true
   },
   "outputs": [],
   "source": [
    "# target 더미화\n",
    "dog.target = encoder.fit_transform(dog.target)\n",
    "cat.target = encoder.fit_transform(cat.target)"
   ]
  },
  {
   "cell_type": "code",
   "execution_count": null,
   "metadata": {
    "collapsed": true
   },
   "outputs": [],
   "source": [
    "import numpy as np\n",
    "import matplotlib.pyplot as plt\n",
    "from sklearn.tree import DecisionTreeRegressor\n",
    "from sklearn.ensemble import AdaBoostRegressor"
   ]
  },
  {
   "cell_type": "code",
   "execution_count": null,
   "metadata": {
    "collapsed": true
   },
   "outputs": [],
   "source": [
    "regr_1 = DecisionTreeRegressor(max_depth=5)\n",
    "regr_2 = AdaBoostRegressor(DecisionTreeRegressor(max_depth=5),\n",
    "                          n_estimators=300, random_state=1)"
   ]
  },
  {
   "cell_type": "code",
   "execution_count": null,
   "metadata": {
    "collapsed": true
   },
   "outputs": [],
   "source": [
    "regr_1.fit(dog.data, dog.target)\n",
    "regr_2.fit(dog.data, dog.target)"
   ]
  },
  {
   "cell_type": "code",
   "execution_count": null,
   "metadata": {
    "collapsed": true
   },
   "outputs": [],
   "source": [
    "print(regr_1.score(dog.data, dog.target))\n",
    "print(regr_2.score(dog.data, dog.target))"
   ]
  },
  {
   "cell_type": "code",
   "execution_count": null,
   "metadata": {
    "collapsed": true
   },
   "outputs": [],
   "source": []
  },
  {
   "cell_type": "code",
   "execution_count": null,
   "metadata": {
    "collapsed": true
   },
   "outputs": [],
   "source": [
    "regr_1.fit(cat.data, cat.target)\n",
    "regr_2.fit(cat.data, cat.target)"
   ]
  },
  {
   "cell_type": "code",
   "execution_count": null,
   "metadata": {
    "collapsed": true
   },
   "outputs": [],
   "source": [
    "print(regr_1.score(cat.data, cat.target))\n",
    "print(regr_2.score(cat.data, cat.target))"
   ]
  },
  {
   "cell_type": "code",
   "execution_count": null,
   "metadata": {
    "collapsed": true
   },
   "outputs": [],
   "source": []
  },
  {
   "cell_type": "markdown",
   "metadata": {},
   "source": [
    "## boosting 잘 한건 지 모르겟음."
   ]
  },
  {
   "cell_type": "code",
   "execution_count": null,
   "metadata": {
    "collapsed": true
   },
   "outputs": [],
   "source": []
  },
  {
   "cell_type": "code",
   "execution_count": null,
   "metadata": {
    "collapsed": true
   },
   "outputs": [],
   "source": []
  },
  {
   "cell_type": "code",
   "execution_count": null,
   "metadata": {
    "collapsed": true
   },
   "outputs": [],
   "source": []
  },
  {
   "cell_type": "markdown",
   "metadata": {},
   "source": [
    "## 시간 오래걸림... 주의 요함... (근데 성적은 고만고만...)"
   ]
  },
  {
   "cell_type": "code",
   "execution_count": null,
   "metadata": {
    "collapsed": true
   },
   "outputs": [],
   "source": [
    "# SVM"
   ]
  },
  {
   "cell_type": "code",
   "execution_count": null,
   "metadata": {
    "collapsed": true
   },
   "outputs": [],
   "source": [
    "from sklearn import svm\n",
    "svmex = svm.SVC()\n",
    "svmex.fit(dog.data, dog.target)"
   ]
  },
  {
   "cell_type": "code",
   "execution_count": null,
   "metadata": {
    "collapsed": true
   },
   "outputs": [],
   "source": [
    "svmex.score(dog.data, dog.target)"
   ]
  },
  {
   "cell_type": "code",
   "execution_count": null,
   "metadata": {
    "collapsed": true
   },
   "outputs": [],
   "source": []
  },
  {
   "cell_type": "code",
   "execution_count": null,
   "metadata": {
    "collapsed": true
   },
   "outputs": [],
   "source": [
    "svmex.fit(cat.data, cat.target)"
   ]
  },
  {
   "cell_type": "code",
   "execution_count": null,
   "metadata": {
    "collapsed": true
   },
   "outputs": [],
   "source": [
    "svmex.score(cat.data, cat.target)"
   ]
  },
  {
   "cell_type": "code",
   "execution_count": null,
   "metadata": {
    "collapsed": true
   },
   "outputs": [],
   "source": []
  },
  {
   "cell_type": "code",
   "execution_count": null,
   "metadata": {
    "collapsed": true
   },
   "outputs": [],
   "source": []
  },
  {
   "cell_type": "code",
   "execution_count": null,
   "metadata": {
    "collapsed": true
   },
   "outputs": [],
   "source": []
  },
  {
   "cell_type": "code",
   "execution_count": 89,
   "metadata": {
    "collapsed": true
   },
   "outputs": [],
   "source": [
    "test_df = pd.read_csv(\"./input/test.csv\")"
   ]
  },
  {
   "cell_type": "code",
   "execution_count": 90,
   "metadata": {
    "scrolled": true
   },
   "outputs": [
    {
     "name": "stderr",
     "output_type": "stream",
     "text": [
      "C:\\Python36\\lib\\site-packages\\ipykernel_launcher.py:90: SettingWithCopyWarning: \n",
      "A value is trying to be set on a copy of a slice from a DataFrame.\n",
      "Try using .loc[row_indexer,col_indexer] = value instead\n",
      "\n",
      "See the caveats in the documentation: http://pandas.pydata.org/pandas-docs/stable/indexing.html#indexing-view-versus-copy\n",
      "C:\\Python36\\lib\\site-packages\\ipykernel_launcher.py:91: SettingWithCopyWarning: \n",
      "A value is trying to be set on a copy of a slice from a DataFrame.\n",
      "Try using .loc[row_indexer,col_indexer] = value instead\n",
      "\n",
      "See the caveats in the documentation: http://pandas.pydata.org/pandas-docs/stable/indexing.html#indexing-view-versus-copy\n",
      "C:\\Python36\\lib\\site-packages\\ipykernel_launcher.py:92: SettingWithCopyWarning: \n",
      "A value is trying to be set on a copy of a slice from a DataFrame.\n",
      "Try using .loc[row_indexer,col_indexer] = value instead\n",
      "\n",
      "See the caveats in the documentation: http://pandas.pydata.org/pandas-docs/stable/indexing.html#indexing-view-versus-copy\n",
      "C:\\Python36\\lib\\site-packages\\ipykernel_launcher.py:93: SettingWithCopyWarning: \n",
      "A value is trying to be set on a copy of a slice from a DataFrame.\n",
      "Try using .loc[row_indexer,col_indexer] = value instead\n",
      "\n",
      "See the caveats in the documentation: http://pandas.pydata.org/pandas-docs/stable/indexing.html#indexing-view-versus-copy\n"
     ]
    }
   ],
   "source": [
    "test_df['Sex'] = test_df.SexuponOutcome.apply(get_sex)\n",
    "test_df['Neutered'] = test_df.SexuponOutcome.apply(get_neutered)\n",
    "\n",
    "test_df['Name'] = test_df['Name'].replace(np.nan, 'Unknown', regex=True)\n",
    "test_df['AgeuponOutcome'] = test_df['AgeuponOutcome'].replace(np.nan, '0 days', regex=True)\n",
    "\n",
    "bydays = []\n",
    "for i in test_df['AgeuponOutcome']:\n",
    "    if i.find(' ') >= 0:\n",
    "        f, s = i.split(' ')\n",
    "        if s == 'year' or s == 'years':\n",
    "            f = int(f) * 365\n",
    "            bydays.append(f)\n",
    "        elif s == 'month' or s == 'months':\n",
    "            f = int(f) * 30\n",
    "            bydays.append(f)\n",
    "        elif s == 'week' or s == 'weeks':\n",
    "            f = int(f) * 7\n",
    "            bydays.append(f)\n",
    "        elif s == 'day' or s == 'days':\n",
    "            f = int(f)\n",
    "            bydays.append(f)\n",
    "    else:\n",
    "        bydays.append(i)\n",
    "test_df['AgeuponOutcome'] = Series(bydays)\n",
    "\n",
    "test_df['isName'] = test_df.Name.apply(is_name)\n",
    "\n",
    "test_df['numCol'] = test_df.Color.apply(get_num)\n",
    "\n",
    "bymain = []\n",
    "for i in test_df['Color']:\n",
    "    i = str(i)\n",
    "    if i.find('/') >= 0:\n",
    "        f, s = i.split('/')\n",
    "        bymain.append(f)\n",
    "    else:\n",
    "        bymain.append(i)\n",
    "test_df['newColor'] = Series(bymain)\n",
    "\n",
    "test_df['newColor2'] = test_df.newColor.apply(get_mainC)\n",
    "\n",
    "bydate = []\n",
    "bytime = []\n",
    "for i in test_df['DateTime']:\n",
    "    if i.find(' ') >= 0:\n",
    "        f, s = i.split(' ')\n",
    "        bydate.append(f)\n",
    "        bytime.append(s)\n",
    "    else:\n",
    "        pass\n",
    "test_df['date'] = Series(bydate)\n",
    "test_df['time'] = Series(bytime)\n",
    "\n",
    "byyear = []\n",
    "bymonth = []\n",
    "byday = []\n",
    "for i in test_df['date']:\n",
    "    if i.find('-') >= 0:\n",
    "        f, s, d = i.split('-')\n",
    "        byyear.append(f)\n",
    "        bymonth.append(s)\n",
    "        byday.append(d)\n",
    "    else:\n",
    "        pass\n",
    "test_df['year'] = Series(byyear)\n",
    "test_df['month'] = Series(bymonth)\n",
    "test_df['day'] = Series(byday)\n",
    "\n",
    "byhour = []\n",
    "byminu = []\n",
    "bysec = []\n",
    "for i in test_df['time']:\n",
    "    if i.find(':') >= 0:\n",
    "        f, s, d = i.split(':')\n",
    "        byhour.append(f)\n",
    "        byminu.append(s)\n",
    "        bysec.append(d)\n",
    "    else:\n",
    "        pass\n",
    "test_df['hour'] = Series(byhour)\n",
    "test_df['minute'] = Series(byminu)\n",
    "test_df['sec'] = Series(bysec)\n",
    "\n",
    "tvar = ['AnimalType', 'Sex', 'Neutered', 'AgeuponOutcome', 'isName', 'numCol', 'newColor', 'year', 'month', 'day', 'hour', 'minute', 'sec']\n",
    "\n",
    "\n",
    "df_tvar = test_df[tvar]\n",
    "\n",
    "df_tvar['Sex'] = encoder.fit_transform(df_tvar['Sex'])\n",
    "df_tvar['Neutered'] = encoder.fit_transform(df_tvar['Neutered'])\n",
    "df_tvar['numCol'] = encoder.fit_transform(df_tvar['numCol'])\n",
    "df_tvar['newColor'] = encoder.fit_transform(df_tvar['newColor'])"
   ]
  },
  {
   "cell_type": "code",
   "execution_count": 93,
   "metadata": {},
   "outputs": [
    {
     "name": "stderr",
     "output_type": "stream",
     "text": [
      "C:\\Python36\\lib\\site-packages\\ipykernel_launcher.py:1: SettingWithCopyWarning: \n",
      "A value is trying to be set on a copy of a slice from a DataFrame.\n",
      "Try using .loc[row_indexer,col_indexer] = value instead\n",
      "\n",
      "See the caveats in the documentation: http://pandas.pydata.org/pandas-docs/stable/indexing.html#indexing-view-versus-copy\n",
      "  \"\"\"Entry point for launching an IPython kernel.\n"
     ]
    }
   ],
   "source": [
    "df_tvar['AnimalType'] = encoder.fit_transform(df_tvar['AnimalType'])"
   ]
  },
  {
   "cell_type": "code",
   "execution_count": 99,
   "metadata": {
    "scrolled": true
   },
   "outputs": [
    {
     "data": {
      "text/plain": [
       "0.5"
      ]
     },
     "execution_count": 99,
     "metadata": {},
     "output_type": "execute_result"
    }
   ],
   "source": [
    "rfc.predict_proba(df_tvar)[1][0]"
   ]
  },
  {
   "cell_type": "code",
   "execution_count": 100,
   "metadata": {
    "collapsed": true
   },
   "outputs": [],
   "source": [
    "Predicted = rfc.predict_proba(df_tvar)"
   ]
  },
  {
   "cell_type": "code",
   "execution_count": 121,
   "metadata": {
    "collapsed": true
   },
   "outputs": [],
   "source": [
    "import csv\n",
    "    \n",
    "with open('answer.csv', 'w') as csvfile:\n",
    "    #fieldnames = ['ID', 'Adoption', 'Died', 'Euthanasia', 'Return_to_owner', 'Transfer']\n",
    "    #writer = csv.DictWriter(csvfile, fieldnames=fieldnames)\n",
    "    writer = csv.writer(csvfile)\n",
    "    writer.writerow(['ID','Adoption','Died','Euthanasia','Return_to_owner','Transfer'])\n",
    "    for i in range(len(test_df.ID)): \n",
    "        writer.writerow([test_df.ID[i], Predicted[i][0], Predicted[i][1], Predicted[i][2],Predicted[i][3],Predicted[i][4]])"
   ]
  },
  {
   "cell_type": "code",
   "execution_count": null,
   "metadata": {
    "collapsed": true
   },
   "outputs": [],
   "source": []
  },
  {
   "cell_type": "code",
   "execution_count": null,
   "metadata": {
    "collapsed": true
   },
   "outputs": [],
   "source": []
  },
  {
   "cell_type": "code",
   "execution_count": null,
   "metadata": {
    "collapsed": true
   },
   "outputs": [],
   "source": []
  },
  {
   "cell_type": "code",
   "execution_count": null,
   "metadata": {
    "collapsed": true
   },
   "outputs": [],
   "source": []
  },
  {
   "cell_type": "code",
   "execution_count": null,
   "metadata": {
    "collapsed": true
   },
   "outputs": [],
   "source": []
  }
 ],
 "metadata": {
  "kernelspec": {
   "display_name": "Python 3",
   "language": "python",
   "name": "python3"
  },
  "language_info": {
   "codemirror_mode": {
    "name": "ipython",
    "version": 3
   },
   "file_extension": ".py",
   "mimetype": "text/x-python",
   "name": "python",
   "nbconvert_exporter": "python",
   "pygments_lexer": "ipython3",
   "version": "3.6.1"
  }
 },
 "nbformat": 4,
 "nbformat_minor": 2
}
